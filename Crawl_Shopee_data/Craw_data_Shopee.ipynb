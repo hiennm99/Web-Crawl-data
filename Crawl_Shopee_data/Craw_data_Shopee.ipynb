{
 "cells": [
  {
   "cell_type": "code",
   "execution_count": 3,
   "metadata": {},
   "outputs": [],
   "source": [
    "import numpy as np\n",
    "import pandas as pd\n",
    "import random\n",
    "from time import sleep\n",
    "from selenium import webdriver\n",
    "import json\n",
    "from selenium.common.exceptions import NoSuchElementException\n",
    "from selenium.webdriver.common.by import By\n",
    "import requests\n",
    "import json\n",
    "from selenium.webdriver.common.action_chains import ActionChains\n",
    "import concurrent.futures\n"
   ]
  },
  {
   "cell_type": "code",
   "execution_count": 55,
   "metadata": {},
   "outputs": [
    {
     "name": "stderr",
     "output_type": "stream",
     "text": [
      "C:\\Users\\Admin\\AppData\\Local\\Temp\\ipykernel_23744\\5614698.py:1: DeprecationWarning: executable_path has been deprecated, please pass in a Service object\n",
      "  driver=webdriver.Chrome('D:\\My PC\\Data Engineer\\Web Crawling data\\chromedriver.exe')\n"
     ]
    }
   ],
   "source": [
    "driver=webdriver.Chrome('D:\\My PC\\Data Engineer\\Web Crawling data\\chromedriver.exe')"
   ]
  },
  {
   "cell_type": "code",
   "execution_count": 2,
   "metadata": {},
   "outputs": [],
   "source": [
    "payload={\n",
    "}\n",
    "headers = {\n",
    "'authority': 'shopee.vn',\n",
    "'accept': 'application/json',\n",
    "'accept-language': 'en-US,en;q=0.9,vi;q=0.8',\n",
    "'content-type': 'application/json',\n",
    "'user-agent': 'Mozilla/5.0 (Windows NT 10.0; Win64; x64) AppleWebKit/537.36 (KHTML, like Gecko) Chrome/110.0.0.0 Safari/537.36',\n",
    "# 'x-csrftoken': 'ILmX6HW9LSoEqlit1yxFHzK9tUhLEPGM',\n",
    "'x-kl-ajax-request': 'Ajax_Request',\n",
    "'x-requested-with': 'XMLHttpRequest',\n",
    "'x-shopee-language': 'vi'\n",
    "}"
   ]
  },
  {
   "cell_type": "code",
   "execution_count": 4,
   "metadata": {},
   "outputs": [],
   "source": [
    "drivers=[]\n",
    "def Open_Multi_Drivers():\n",
    "    for i in range(3):\n",
    "        sleep(3)\n",
    "        driver=webdriver.Chrome('chromedriver.exe')\n",
    "        drivers.append(driver)"
   ]
  },
  {
   "cell_type": "code",
   "execution_count": 5,
   "metadata": {},
   "outputs": [
    {
     "name": "stderr",
     "output_type": "stream",
     "text": [
      "C:\\Users\\Admin\\AppData\\Local\\Temp\\ipykernel_23744\\1138524333.py:5: DeprecationWarning: executable_path has been deprecated, please pass in a Service object\n",
      "  driver=webdriver.Chrome('chromedriver.exe')\n"
     ]
    }
   ],
   "source": [
    "Open_Multi_Drivers()"
   ]
  },
  {
   "cell_type": "code",
   "execution_count": 64,
   "metadata": {},
   "outputs": [
    {
     "name": "stderr",
     "output_type": "stream",
     "text": [
      "C:\\Users\\Admin\\AppData\\Local\\Temp\\ipykernel_23744\\1348098454.py:9: DeprecationWarning: executable_path has been deprecated, please pass in a Service object\n",
      "  driver=webdriver.Chrome('chromedriver.exe')\n"
     ]
    }
   ],
   "source": [
    "link_list=[]\n",
    "drivers=[]\n",
    "urls=[f'https://shopee.vn/search?category=11036030&keyword=%C4%91i%E1%BB%87n%20tho%E1%BA%A1i%20di%20%C4%91%E1%BB%99ng&page=1',\n",
    "      f'https://shopee.vn/search?category=11036030&keyword=%C4%91i%E1%BB%87n%20tho%E1%BA%A1i%20di%20%C4%91%E1%BB%99ng&page=2',\n",
    "      f'https://shopee.vn/search?category=11036030&keyword=%C4%91i%E1%BB%87n%20tho%E1%BA%A1i%20di%20%C4%91%E1%BB%99ng&page=3']\n",
    "\n",
    "def Open_Multi_Driver():\n",
    "    for i in range(3):\n",
    "        driver=webdriver.Chrome('chromedriver.exe')\n",
    "        drivers.append(driver)\n",
    "    \n",
    "def Get_List_ID(driver,url):\n",
    "    #Get list link of items\n",
    "    driver.get(url)\n",
    "    sleep(21)\n",
    "    try:\n",
    "        elems=driver.find_elements(By.CSS_SELECTOR,'.col-xs-2-4.shopee-search-item-result__item [href]')\n",
    "    \n",
    "    except NoSuchElementException as e:\n",
    "        print(e)\n",
    "    for elem in elems:\n",
    "        link=elem.get_attribute('href')\n",
    "        link_list.append(link)\n",
    "\n",
    "def Get_Multi_Pages():\n",
    "    with concurrent.futures.ThreadPoolExecutor() as executor:\n",
    "        executor.map(Get_List_ID,drivers,urls)"
   ]
  },
  {
   "cell_type": "code",
   "execution_count": 65,
   "metadata": {},
   "outputs": [],
   "source": [
    "def Get_Multi_Pages():\n",
    "    with concurrent.futures.ThreadPoolExecutor() as executor:\n",
    "        executor.map(Get_List_ID,drivers,urls)"
   ]
  },
  {
   "cell_type": "code",
   "execution_count": null,
   "metadata": {},
   "outputs": [],
   "source": [
    "link_list"
   ]
  },
  {
   "cell_type": "code",
   "execution_count": 21,
   "metadata": {},
   "outputs": [
    {
     "data": {
      "text/plain": [
       "['https://tiki.vn/api/v2/products?limit=40&include=advertisement&aggregations=2&q=%C4%91i%E1%BB%87n+tho%E1%BA%A1i+samsung&page=1',\n",
       " 'https://tiki.vn/api/v2/products?limit=40&include=advertisement&aggregations=2&q=%C4%91i%E1%BB%87n+tho%E1%BA%A1i+samsung&page=2',\n",
       " 'https://tiki.vn/api/v2/products?limit=40&include=advertisement&aggregations=2&q=%C4%91i%E1%BB%87n+tho%E1%BA%A1i+samsung&page=3']"
      ]
     },
     "execution_count": 21,
     "metadata": {},
     "output_type": "execute_result"
    }
   ],
   "source": [
    "urls"
   ]
  },
  {
   "cell_type": "code",
   "execution_count": null,
   "metadata": {},
   "outputs": [],
   "source": [
    "with concurrent.futures.ThreadPoolExecutor() as executor:\n",
    "    executor.map(Get_List_ID,drivers,urls)"
   ]
  },
  {
   "cell_type": "code",
   "execution_count": null,
   "metadata": {},
   "outputs": [],
   "source": []
  },
  {
   "cell_type": "code",
   "execution_count": 50,
   "metadata": {},
   "outputs": [],
   "source": [
    "driver.get('https://shopee.vn/search?category=11036030&keyword=%C4%91i%E1%BB%87n%20tho%E1%BA%A1i%20di%20%C4%91%E1%BB%99ng&page=1')"
   ]
  },
  {
   "cell_type": "code",
   "execution_count": 51,
   "metadata": {},
   "outputs": [],
   "source": [
    "\n",
    "elems=driver.find_elements(By.CSS_SELECTOR,'.col-xs-2-4.shopee-search-item-result__item [href]')\n",
    "for elem in elems:\n",
    "    link=elem.get_attribute('href')\n",
    "    link_list.append(link)"
   ]
  },
  {
   "cell_type": "code",
   "execution_count": 52,
   "metadata": {},
   "outputs": [
    {
     "data": {
      "text/plain": [
       "[[],\n",
       " [],\n",
       " [],\n",
       " 'https://shopee.vn/%E2%98%8E%EF%B8%8F-Huawei-ETS-3125i-%E2%98%8E%EF%B8%8F-M%C3%A1y-%C4%90i%E1%BB%87n-Tho%E1%BA%A1i-B%C3%A0n-L%E1%BA%AFp-Sim-Di-%C4%90%E1%BB%99ng-GPhone-HomePhone-Kh%C3%B4ng-D%C3%A2y-S%C3%B3ng-Kh%E1%BB%8Fe-Loa-L%E1%BB%9Bn-i.353828938.19348703421?sp_atk=0f5e69c2-eb8d-4bdd-836d-8ec1c3828bc4&xptdk=0f5e69c2-eb8d-4bdd-836d-8ec1c3828bc4',\n",
       " 'https://shopee.vn/%C4%90i%E1%BB%87n-tho%E1%BA%A1i-th%C3%B4ng-minh-Note10-pro-B%C3%A1n-di-%C4%91%E1%BB%99ng-ch%C3%ADnh-h%C3%A3ng-(8GB-256GB)-M%C3%A1y-%E1%BA%A3nh-HD-h%C3%ACnh-l%E1%BB%9Bn-game-th%E1%BA%BB-k%C3%A9p-Android-5G-COD-i.864507286.14992831559?sp_atk=e31dc9dc-3ef2-4edc-82c4-a1c20b68ebda&xptdk=e31dc9dc-3ef2-4edc-82c4-a1c20b68ebda',\n",
       " 'https://shopee.vn/-SI%C3%8AU-HOT-%C4%90i%E1%BB%87n-tho%E1%BA%A1i-di-%C4%91%E1%BB%99ng-Xiaomi-Redmi-K50-Gaming-(12-256)-Si%E1%BB%87u-chi%E1%BA%BFn-c%E1%BA%A5u-h%C3%ACnh-cao-c%C3%A2n-m%E1%BB%8Di-t%E1%BB%B1a-game-i.633583933.21875139987?sp_atk=06843a62-595e-43fc-92f7-4d701915cfa0&xptdk=06843a62-595e-43fc-92f7-4d701915cfa0',\n",
       " 'https://shopee.vn/PO-An-To%C3%A0n-D%C3%A0nh-Cho-%C4%90i%E1%BB%87n-Tho%E1%BA%A1i-Di-%C4%90%E1%BB%99ng-D%C3%A2y-C%C3%A1p-S%E1%BA%A1c-Nhanh-Type-C-120W-i.824152231.20237930628?sp_atk=34f9ed20-a798-42e5-b51a-4239dd31e6d5&xptdk=34f9ed20-a798-42e5-b51a-4239dd31e6d5',\n",
       " 'https://shopee.vn/Khung-t%C4%83ng-di%E1%BB%87n-t%C3%ADch-t%E1%BA%A3n-nhi%E1%BB%87t-cho-m%C3%A1y-l%C3%A0m-m%C3%A1t-%C4%91i%E1%BB%87n-tho%E1%BA%A1i-di-%C4%91%E1%BB%99ng-i.293690152.17467737080?sp_atk=0357a6e3-588d-4eff-a592-818eee1ed651&xptdk=0357a6e3-588d-4eff-a592-818eee1ed651',\n",
       " 'https://shopee.vn/Hot-BT-Dialer-%C4%90i%E1%BB%87n-Tho%E1%BA%A1i-Di-%C4%90%E1%BB%99ng-Nh%E1%BB%8F-G%E1%BB%8Dn-Thay-%C4%90%E1%BB%95i-Gi%E1%BB%8Dng-N%C3%B3i-Cho-Nh%C3%A0-%E1%BB%9E-i.135242021.19326724279?sp_atk=ef3bb935-24e9-4713-96ee-1bc613e465b1&xptdk=ef3bb935-24e9-4713-96ee-1bc613e465b1',\n",
       " 'https://shopee.vn/Gi%C3%A1-%C4%90%E1%BB%A1-%C4%90i%E1%BB%87n-Tho%E1%BA%A1i-Di-%C4%90%E1%BB%99ng-M%C3%A1y-T%C3%ADnh-B%E1%BA%A3ng-Kim-Lo%E1%BA%A1i-Gi%C3%A1-%C4%90%E1%BB%A1-%C4%90i%E1%BB%87n-Tho%E1%BA%A1i-%C4%90%E1%BB%83-B%C3%A0n-H%E1%BB%A3p-Kim-Nh%C3%B4m-Cao-C%E1%BA%A5p-i.116211386.9780900730?sp_atk=7ad0bad3-13df-4514-8da4-e2997a805447&xptdk=7ad0bad3-13df-4514-8da4-e2997a805447',\n",
       " 'https://shopee.vn/%C4%90i%E1%BB%87n-tho%E1%BA%A1i-di-%C4%91%E1%BB%99ng-Palm-PVG-100-i.113844369.3555825437?sp_atk=73652880-ba37-4c3e-8aa4-b9142b2139b7&xptdk=73652880-ba37-4c3e-8aa4-b9142b2139b7',\n",
       " 'https://shopee.vn/%C4%90i%E1%BB%87n-Tho%E1%BA%A1i-Di-%C4%90%E1%BB%99ng-Forme-F1-H%C3%A0ng-Ch%C3%ADnh-H%C3%A3ng-i.27662376.15649741690?sp_atk=a33ba91f-f762-4040-9053-39d38ed48718&xptdk=a33ba91f-f762-4040-9053-39d38ed48718',\n",
       " 'https://shopee.vn/D%C3%A2y-%C4%91eo-c%E1%BB%95-tay-g%E1%BA%AFn-%C4%91i%E1%BB%87n-tho%E1%BA%A1i-di-%C4%91%E1%BB%99ng-l%C3%A0m-t%E1%BB%AB-silicon-m%C3%A0u-c%E1%BA%A7u-v%E1%BB%93ng-s%E1%BB%AD-d%E1%BB%A5ng-ti%E1%BB%87n-l%E1%BB%A3i-%C4%91a-n%C4%83ng-i.102090825.9275240759?sp_atk=db861b7b-2be6-4eca-8439-a949ad0d8627&xptdk=db861b7b-2be6-4eca-8439-a949ad0d8627',\n",
       " 'https://shopee.vn/B%E1%BB%99-d%E1%BB%A5ng-c%E1%BB%A5-HDOORLINK-v%E1%BB%87-sinh-m%C3%A0n-h%C3%ACnh-%C4%91i%E1%BB%87n-tho%E1%BA%A1i-m%C3%A1y-t%C3%ADnh-b%E1%BA%A3ng-di-%C4%91%E1%BB%99ng-2-trong-1-ti%E1%BB%87n-d%E1%BB%A5ng-i.379362783.17958900122?sp_atk=35923876-5068-4878-9a89-79ff85a71fb0&xptdk=35923876-5068-4878-9a89-79ff85a71fb0',\n",
       " 'https://shopee.vn/%C4%90I%E1%BB%86N-THO%E1%BA%A0I-DI-%C4%90%E1%BB%98NG-NG%C6%AF%E1%BB%9Ci-GI%C3%80-CAO-TU%E1%BB%94I-VIETTEL-V6216-XPHONE(M%C3%A1y-C%C5%A9)-2-sim-pin-tr%C3%A2u-loa-to-s%C3%B3ng-kh%E1%BB%8Fe-%C4%91%E1%BB%8Dc-s%E1%BB%91-b%C3%A0n-ph%C3%ADm-i.742024024.16344824579?sp_atk=d8f9c6f0-bcb9-4df5-a031-6dd55e249210&xptdk=d8f9c6f0-bcb9-4df5-a031-6dd55e249210',\n",
       " 'https://shopee.vn/Dung-D%E1%BB%8Bch-S%E1%BB%ADa-Ch%E1%BB%AFa-M%C3%A0n-H%C3%ACnh-%C4%90i%E1%BB%87n-Tho%E1%BA%A1i-Di-%C4%90%E1%BB%99ng-Oleophobic-L%E1%BB%9Bp-S%C6%A1n-Ch%E1%BB%91ng-Tr%E1%BA%A7y-Ch%E1%BB%91ng-B%C3%A1m-V%C3%A2n-Tay-M%C3%A0u-Xanh-Orangutan-Orangutan-af-i.804985254.10096971983?sp_atk=cabef8e6-0b62-405e-8bd1-6ec8631d41bd&xptdk=cabef8e6-0b62-405e-8bd1-6ec8631d41bd',\n",
       " 'https://shopee.vn/%C4%90i%E1%BB%87n-tho%E1%BA%A1i-di-%C4%91%E1%BB%99ng-V6216-XPHONE(M%C3%A1y-C%C5%A9)-2-sim-ch%E1%BB%AF-to-pin-tr%C3%A2u-loa-to-s%C3%B3ng-kh%E1%BB%8Fe-sos-%C4%91%E1%BB%8Dc-s%E1%BB%91-d%C3%A0nh-cho-ng%C6%B0%E1%BB%9Di-gi%C3%A0-i.40026643.6067530142?sp_atk=1aa03aee-2a76-43f3-9b2f-886d06455e87&xptdk=1aa03aee-2a76-43f3-9b2f-886d06455e87',\n",
       " 'https://shopee.vn/Thi%E1%BA%BFt-B%E1%BB%8B-Khu%E1%BA%BFch-%C4%90%E1%BA%A1i-M%C3%A0n-H%C3%ACnh-%C4%90i%E1%BB%87n-Tho%E1%BA%A1i-Di-%C4%90%E1%BB%99ng-4k-Si%C3%AAu-Trong-Su%E1%BB%91t-C%C3%B3-Gi%C3%A1-%C4%90%E1%BB%A1-i.447078244.8989479628?sp_atk=402c64e9-b269-4112-80e2-f521002b4c30&xptdk=402c64e9-b269-4112-80e2-f521002b4c30',\n",
       " 'https://shopee.vn/%C4%90i%E1%BB%87n-Tho%E1%BA%A1i-Samsung-Galaxy-A04s-(4GB-64GB)-H%C3%A0ng-Ch%C3%ADnh-H%C3%A3ng-i.65589552.14892725083?sp_atk=2dc03449-8e61-4338-b4eb-871a508e4bb0&xptdk=2dc03449-8e61-4338-b4eb-871a508e4bb0',\n",
       " 'https://shopee.vn/G%E1%BA%ADy-T%E1%BB%B1-S%C6%B0%E1%BB%9Bng-Bluetooth-NOVA-P185-B%E1%BA%B1ng-H%E1%BB%A3p-Kim-Nh%C3%B4m-Th%C3%B4ng-D%E1%BB%A5ng-Cho-%C4%90i%E1%BB%87n-Tho%E1%BA%A1i-Di-%C4%90%E1%BB%99ng-i.469089836.22026185124?sp_atk=8b3a8007-0821-489a-8a02-c143d0081cc5&xptdk=8b3a8007-0821-489a-8a02-c143d0081cc5',\n",
       " 'https://shopee.vn/%C4%90i%E1%BB%87n-tho%E1%BA%A1i-di-%C4%91%E1%BB%99ng-M12-pro-m%E1%BB%9Bi-12-512GB-nguy%C3%AAn-b%E1%BA%A3n-smartphone-b%C3%A1n-%C4%91i%E1%BB%87n-tho%E1%BA%A1i-ch%C6%A1i-game-th%E1%BA%BB-k%C3%A9p-Android-5G-COD-i.906215658.21972655086?sp_atk=58f84d67-c146-442d-880f-119926f6e592&xptdk=58f84d67-c146-442d-880f-119926f6e592',\n",
       " 'https://shopee.vn/%C4%90i%E1%BB%87n-tho%E1%BA%A1i-M3-Pro-C%E1%BA%A7n-b%C3%A1n-5G-%C4%91i%E1%BB%87n-tho%E1%BA%A1i-di-%C4%91%E1%BB%99ng-nguy%C3%AAn-b%E1%BA%A3n-8-256-%C4%91%E1%BB%83-b%C3%A1n-%C4%91i%E1%BB%87n-tho%E1%BA%A1i-ch%C6%A1i-game-nguy%C3%AAn-b%E1%BA%A3n-i.906215658.18871937991?sp_atk=3baa7581-09fa-4624-8af6-26b78d94db6b&xptdk=3baa7581-09fa-4624-8af6-26b78d94db6b',\n",
       " 'https://shopee.vn/%C4%90i%E1%BB%87n-tho%E1%BA%A1i-OPPO-A33-Neo-7-2sim-b%E1%BB%99-nh%E1%BB%9B-16G-m%E1%BB%9Bi-Ch%C6%A1i-TikTok-zalo-FB-Youtube..-B%E1%BA%A3o-h%C3%A0nh-6-Th%C3%A1ng-i.208445880.8323961192?sp_atk=d90d0734-34cb-4e34-a4ad-8e3256b3b539&xptdk=d90d0734-34cb-4e34-a4ad-8e3256b3b539',\n",
       " 'https://shopee.vn/%C4%90i%E1%BB%87n-tho%E1%BA%A1i-di-%C4%91%E1%BB%99ng-ph%E1%BB%95-th%C3%B4ng-SUNTEK-Vicool-V3-(%C4%90en)-B%E1%BA%A3o-h%C3%A0nh-ch%C3%ADnh-h%C3%A3ng-12-th%C3%A1ng-i.11824260.17673677544?sp_atk=15e20395-55b0-4aa7-be45-889df8fdb9be&xptdk=15e20395-55b0-4aa7-be45-889df8fdb9be',\n",
       " 'https://shopee.vn/Mi%E1%BA%BFng-D%C3%A1n-Silicone-Ch%E1%BB%91ng-B%E1%BB%A9c-X%E1%BA%A1-T%E1%BB%AB-T%C3%ADnh-Cho-%C4%90i%E1%BB%87n-Tho%E1%BA%A1i-Di-%C4%90%E1%BB%99ng-i.84201860.16658718469?sp_atk=6a0a769f-2bce-47e0-8d3d-d009eb9794a5&xptdk=6a0a769f-2bce-47e0-8d3d-d009eb9794a5',\n",
       " 'https://shopee.vn/%C4%90i%E1%BB%87n-tho%E1%BA%A1i-di-%C4%91%E1%BB%99ng-si%C3%AAu-nh%E1%BB%8F-BM10-ki%C3%AAm-tai-nghe-bluetooth-i.205466364.7429701240?sp_atk=3039849f-df2e-4efb-8dd5-c34a81196aa6&xptdk=3039849f-df2e-4efb-8dd5-c34a81196aa6',\n",
       " 'https://shopee.vn/B%E1%BB%99-v%E1%BB%8F-%C4%91i%E1%BB%87n-tho%E1%BA%A1i-di-%C4%91%E1%BB%99ng-Philips-E330-i.54915183.16020368009?sp_atk=121032b1-07f0-48e9-bf0a-2827fbd3ed8c&xptdk=121032b1-07f0-48e9-bf0a-2827fbd3ed8c',\n",
       " 'https://shopee.vn/-M%C3%83-GI%E1%BA%A2M-500K-%C4%90i%E1%BB%87n-tho%E1%BA%A1i-di-%C4%91%E1%BB%99ng-Samsung-Galaxy-A11-m%E1%BB%9Bi-100-fullbox-i.530001094.15591333891?sp_atk=06015008-ba0d-435a-9b5a-ba0dfb11684d&xptdk=06015008-ba0d-435a-9b5a-ba0dfb11684d',\n",
       " 'https://shopee.vn/M%C3%A1y-%C4%91i%E1%BB%87n-tho%E1%BA%A1i-b%C3%A0n-l%E1%BA%AFp-sim-V1208-Homephone-di-%C4%91%E1%BB%99ng-Viettel-B%E1%BA%A3o-h%C3%A0nh-ch%C3%ADnh-h%C3%A3ng-i.4770354.1507014549?sp_atk=a9e3eef2-7281-4373-bcd7-0843a269f7f9&xptdk=a9e3eef2-7281-4373-bcd7-0843a269f7f9',\n",
       " 'https://shopee.vn/m%E1%BB%9Bi-tinh-di-%C4%91%E1%BB%99ng-%C4%91i%C3%AA%CC%A3n-thoa%CC%A3i-di-%C4%91%C3%B4%CC%A3ng-Note10-PRO-T%C3%ADn-hi%E1%BB%87u-5G-6GB-128GB-Hai-SIM-s%E1%BA%A1c-nhanh-%C4%91i%E1%BB%87n-tho%E1%BA%A1i-r%E1%BA%BB-ti%E1%BB%81n-cod-i.502086148.16115196273?sp_atk=efffe5d2-df5e-4267-9626-4649743512df&xptdk=efffe5d2-df5e-4267-9626-4649743512df',\n",
       " 'https://shopee.vn/Tay-c%E1%BA%A7m-ch%C6%A1i-game-cho-%C4%91i%E1%BB%87n-tho%E1%BA%A1i-di-%C4%91%E1%BB%99ng-Baseus-GMGA05-01-i.6638097.11086264360?sp_atk=33de54da-1c93-4b16-b632-020c5a669138&xptdk=33de54da-1c93-4b16-b632-020c5a669138',\n",
       " 'https://shopee.vn/%E2%98%8E%EF%B8%8F-Huawei-ETS-3125i-%E2%98%8E%EF%B8%8F-M%C3%A1y-%C4%90i%E1%BB%87n-Tho%E1%BA%A1i-B%C3%A0n-L%E1%BA%AFp-Sim-Di-%C4%90%E1%BB%99ng-GPhone-HomePhone-Kh%C3%B4ng-D%C3%A2y-S%C3%B3ng-Kh%E1%BB%8Fe-Loa-L%E1%BB%9Bn-i.353828938.19348703421?sp_atk=fef47017-552e-4455-8792-391a7f3b03c4&xptdk=fef47017-552e-4455-8792-391a7f3b03c4',\n",
       " 'https://shopee.vn/%C4%90i%E1%BB%87n-tho%E1%BA%A1i-th%C3%B4ng-minh-Note10-pro-B%C3%A1n-di-%C4%91%E1%BB%99ng-ch%C3%ADnh-h%C3%A3ng-(8GB-256GB)-M%C3%A1y-%E1%BA%A3nh-HD-h%C3%ACnh-l%E1%BB%9Bn-game-th%E1%BA%BB-k%C3%A9p-Android-5G-COD-i.864507286.14992831559?sp_atk=db370b63-89a3-4f2f-8aae-f8559ba5cf89&xptdk=db370b63-89a3-4f2f-8aae-f8559ba5cf89']"
      ]
     },
     "execution_count": 52,
     "metadata": {},
     "output_type": "execute_result"
    }
   ],
   "source": [
    "link_list"
   ]
  },
  {
   "cell_type": "code",
   "execution_count": 46,
   "metadata": {},
   "outputs": [],
   "source": [
    "links=[elem.get_attribute('href') for elem in elems]"
   ]
  },
  {
   "cell_type": "code",
   "execution_count": null,
   "metadata": {},
   "outputs": [],
   "source": [
    "links"
   ]
  },
  {
   "cell_type": "code",
   "execution_count": 32,
   "metadata": {},
   "outputs": [
    {
     "ename": "KeyError",
     "evalue": "'items'",
     "output_type": "error",
     "traceback": [
      "\u001b[1;31m---------------------------------------------------------------------------\u001b[0m",
      "\u001b[1;31mKeyError\u001b[0m                                  Traceback (most recent call last)",
      "Cell \u001b[1;32mIn[32], line 4\u001b[0m\n\u001b[0;32m      2\u001b[0m response \u001b[39m=\u001b[39m requests\u001b[39m.\u001b[39mget(item_url, headers\u001b[39m=\u001b[39mheaders, data\u001b[39m=\u001b[39mpayload)\n\u001b[0;32m      3\u001b[0m item_raw\u001b[39m=\u001b[39mresponse\u001b[39m.\u001b[39mjson()\n\u001b[1;32m----> 4\u001b[0m product_data\u001b[39m=\u001b[39mitem_raw[\u001b[39m'\u001b[39;49m\u001b[39mitems\u001b[39;49m\u001b[39m'\u001b[39;49m]\n\u001b[0;32m      5\u001b[0m product_data\n",
      "\u001b[1;31mKeyError\u001b[0m: 'items'"
     ]
    }
   ],
   "source": [
    "item_url =f'https://shopee.vn/api/v4/search/search_items?by=relevancy&keyword=%C4%91i%E1%BB%87n%20tho%E1%BA%A1i%20di%20%C4%91%E1%BB%99ng&limit=60&match_id=11036030&newest=60&order=desc&page_type=search&scenario=PAGE_CATEGORY_SEARCH&version=2&view_session_id=ea4a43e1-1fce-4cca-a95b-c511f622b6bc'\n",
    "response = requests.get(item_url, headers=headers, data=payload)\n",
    "item_raw=response.json()\n",
    "product_data=item_raw['items']\n",
    "product_data"
   ]
  }
 ],
 "metadata": {
  "kernelspec": {
   "display_name": "Python 3",
   "language": "python",
   "name": "python3"
  },
  "language_info": {
   "codemirror_mode": {
    "name": "ipython",
    "version": 3
   },
   "file_extension": ".py",
   "mimetype": "text/x-python",
   "name": "python",
   "nbconvert_exporter": "python",
   "pygments_lexer": "ipython3",
   "version": "3.8.10"
  },
  "orig_nbformat": 4,
  "vscode": {
   "interpreter": {
    "hash": "a4868653bb6f8972e87e4c446ab8a445a15b25dedb8594cc74c480f8152ea86a"
   }
  }
 },
 "nbformat": 4,
 "nbformat_minor": 2
}

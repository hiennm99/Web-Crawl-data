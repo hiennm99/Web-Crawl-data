{
 "cells": [
  {
   "cell_type": "code",
   "execution_count": 39,
   "metadata": {},
   "outputs": [],
   "source": [
    "import pandas as pd\n",
    "import requests\n",
    "import json\n",
    "import threading\n",
    "from time import sleep\n"
   ]
  },
  {
   "cell_type": "code",
   "execution_count": 49,
   "metadata": {},
   "outputs": [],
   "source": [
    "headers={\n",
    "    'user-agent':'Mozilla/5.0 (iPad; CPU OS 13_3 like Mac OS X) AppleWebKit/605.1.15 (KHTML, like Gecko) CriOS/87.0.4280.77 Mobile/15E148 Safari/604.1',\n",
    "    'accept': 'application/json, text/plain, */*',\n",
    "    'accept-encoding': 'gzip, deflate, br',\n",
    "    'accept-language': 'en-US,en;q=0.9,vi;q=0.8',\n",
    "}\n",
    "params={\n",
    "    'limit': '10',\n",
    "    'include': 'advertisement',\n",
    "    'is_mweb': '1',\n",
    "    'aggregations': '2',\n",
    "    'q': 'điện thoại samsung',\n",
    "    'page': '1'\n",
    "}\n",
    "product_list=[]"
   ]
  },
  {
   "cell_type": "code",
   "execution_count": 41,
   "metadata": {},
   "outputs": [],
   "source": [
    "\n",
    "def Get_List_ID(page):\n",
    "    params['pages']=page\n",
    "    response=requests.get('https://tiki.vn/api/v2/products',headers=headers,params=params)\n",
    "    if response.status_code == 200:\n",
    "        print(f'-------Crawl page {page} successfully!!!--------')\n",
    "    for record in response.json().get('data'):\n",
    "        product_list.append(record.get('id'))"
   ]
  },
  {
   "cell_type": "code",
   "execution_count": 52,
   "metadata": {},
   "outputs": [],
   "source": [
    "def Get_List_ID(page):\n",
    "    params['pages']=page\n",
    "    response=requests.get('https://tiki.vn/api/v2/products',headers=headers,params=params)\n",
    "    if response.status_code == 200:\n",
    "        print(f'-------Crawl page {page} successfully!!!--------')\n",
    "    for record in response.json().get('data'):\n",
    "        product_list.append(record.get('id'))\n",
    "        \n",
    "def Get_List_productID():\n",
    "    threads=[]\n",
    "    for i in range(1,10):\n",
    "        sleep(0.2)\n",
    "        t=threading.Thread(target=Get_List_ID,args=(i,))\n",
    "        threads.append(t)\n",
    "        \n",
    "    for thread in threads:\n",
    "        thread.start()\n",
    "        \n",
    "    return product_list\n"
   ]
  },
  {
   "cell_type": "code",
   "execution_count": 24,
   "metadata": {},
   "outputs": [],
   "source": [
    "import pandas as pd\n",
    "import requests\n",
    "import json\n",
    "import threading\n",
    "from time import sleep\n",
    "from sqlalchemy import create_engine"
   ]
  },
  {
   "cell_type": "code",
   "execution_count": 35,
   "metadata": {},
   "outputs": [],
   "source": [
    "\n",
    "headers={\n",
    "'user-agent':'Mozilla/5.0 (iPad; CPU OS 13_3 like Mac OS X) AppleWebKit/605.1.15 (KHTML, like Gecko) CriOS/87.0.4280.77 Mobile/15E148 Safari/604.1',\n",
    "'accept': 'application/json, text/plain, */*',\n",
    "'accept-encoding': 'gzip, deflate, br',\n",
    "'accept-language': 'en-US,en;q=0.9,vi;q=0.8',\n",
    "}\n",
    "\n",
    "params={\n",
    "    'limit': '15',\n",
    "    'include': 'advertisement',\n",
    "    'is_mweb': '1',\n",
    "    'aggregations': '2',\n",
    "    'q': 'điện thoại samsung',\n",
    "    'page':1\n",
    "}\n",
    "\n",
    "#MySQL connection information\n",
    "username=\"root\"\n",
    "password=\"\"\n",
    "host=\"localhost\"\n",
    "database=\"tiki\"\n",
    "engine=create_engine(f\"mysql+pymysql://{username}:{password}@{host}/{database}\")\n",
    "product_list=[]"
   ]
  },
  {
   "cell_type": "code",
   "execution_count": 36,
   "metadata": {},
   "outputs": [],
   "source": [
    "\n",
    "def Get_List_ID(page):\n",
    "    params['pages']=page\n",
    "    response=requests.get('https://tiki.vn/api/v2/products',headers=headers,params=params)\n",
    "    if response.status_code == 200:\n",
    "        print(f'-------Crawl page {page} successfully!!!--------')\n",
    "    for record in response.json().get('data'):\n",
    "        product_list.append(record.get('id'))\n",
    "        "
   ]
  },
  {
   "cell_type": "code",
   "execution_count": 37,
   "metadata": {},
   "outputs": [],
   "source": [
    "def Get_List_productID():\n",
    "    threads=[]\n",
    "    for i in range(1,2):\n",
    "        sleep(0.1)\n",
    "        t=threading.Thread(target=Get_List_ID,args=(i,))\n",
    "        threads.append(t)\n",
    "        \n",
    "    for thread in threads:\n",
    "        thread.start()\n",
    "    "
   ]
  },
  {
   "cell_type": "code",
   "execution_count": 38,
   "metadata": {},
   "outputs": [
    {
     "name": "stdout",
     "output_type": "stream",
     "text": [
      "-------Crawl page 1 successfully!!!--------\n"
     ]
    }
   ],
   "source": [
    "Get_List_productID()"
   ]
  },
  {
   "cell_type": "code",
   "execution_count": 39,
   "metadata": {},
   "outputs": [
    {
     "data": {
      "text/plain": [
       "[127372598,\n",
       " 197670818,\n",
       " 102077313,\n",
       " 177141832,\n",
       " 162593187,\n",
       " 162593114,\n",
       " 194034217,\n",
       " 172001933,\n",
       " 173764269,\n",
       " 170581659,\n",
       " 172826900,\n",
       " 175967811,\n",
       " 162593136,\n",
       " 158741127,\n",
       " 177746939]"
      ]
     },
     "execution_count": 39,
     "metadata": {},
     "output_type": "execute_result"
    }
   ],
   "source": [
    "product_list"
   ]
  },
  {
   "cell_type": "code",
   "execution_count": 33,
   "metadata": {},
   "outputs": [],
   "source": [
    "def Get_Product_Information():\n",
    "    masterProduct=[]\n",
    "    productDetail=[]\n",
    "    Marketing=[]\n",
    "    for id in product_list:\n",
    "        response=requests.get(f'https://tiki.vn/api/v2/products/{id}',headers=headers,params=params)\n",
    "        text=response.content\n",
    "        data=json.loads(text)\n",
    "\n",
    "        master_=[]\n",
    "        master_.append(data['id'])\n",
    "        master_.append(data['name'])\n",
    "        master_.append(data['categories']['name'])\n",
    "        master_.append(data['brand']['name'])\n",
    "        master_.append(data['current_seller']['id'])\n",
    "        master_.append(data['current_seller']['name'])\n",
    "        masterProduct.append(master_)\n",
    "        \n",
    "        for i in range(0,len(data['configurable_products'])):\n",
    "            detail_=[]\n",
    "            detail_.append(data['id'])\n",
    "            detail_.append(int(data['configurable_products'][i]['sku']))\n",
    "            detail_.append(data['configurable_products'][i]['option1'])\n",
    "            detail_.append(data['configurable_products'][i]['price'])\n",
    "            productDetail.append(detail_)\n",
    "            \n",
    "        marketing_=[]\n",
    "        marketing_.append(data['id'])\n",
    "        marketing_.append(data['review_count'])\n",
    "        marketing_.append(data['rating_average'])\n",
    "        marketing_.append(data['all_time_quantity_sold'])\n",
    "        Marketing.append(marketing_)\n",
    "\n",
    "    if masterProduct is not None:\n",
    "        if productDetail is not None and Marketing is not None:\n",
    "            print('------Data is available-------')\n",
    "    df_MasterProduct=pd.DataFrame(data=masterProduct,columns=['ID','Name','Category','Brand','Shop ID','Shop name'])\n",
    "    df_ProductDetail=pd.DataFrame(data=productDetail,columns=['Product ID','SKU','Option','Price'])\n",
    "    df_Marketing=pd.DataFrame(data=Marketing,columns=['Product ID','Count review','Average score','Sold items'])\n",
    "    \n",
    "    print('-------Crawl data successfully-------')\n",
    "    # Dataframe to Excel \n",
    "    # df_MasterProduct.to_excel('Master Product.xlsx')\n",
    "    # df_ProductDetail.to_excel('Product Detail.xlsx')\n",
    "    # df_Marketing.to_excel('Marketing.xlsx')\n",
    "    \n",
    "    #DataFrame to MySQL\n",
    "    df_MasterProduct.to_sql('master product',con=engine,if_exists='append',index=False)\n",
    "    df_ProductDetail.to_sql('product detail',con=engine,if_exists='append',index=False)\n",
    "    df_Marketing.to_sql('marketing',con=engine,if_exists='append',index=False)\n",
    "\n"
   ]
  },
  {
   "cell_type": "code",
   "execution_count": 34,
   "metadata": {},
   "outputs": [
    {
     "name": "stdout",
     "output_type": "stream",
     "text": [
      "------Data is available-------\n",
      "-------Crawl data successfully-------\n"
     ]
    }
   ],
   "source": [
    "Get_Product_Information("
   ]
  },
  {
   "cell_type": "code",
   "execution_count": null,
   "metadata": {},
   "outputs": [],
   "source": [
    "mas"
   ]
  },
  {
   "cell_type": "code",
   "execution_count": 6,
   "metadata": {},
   "outputs": [
    {
     "name": "stdout",
     "output_type": "stream",
     "text": [
      "[]\n"
     ]
    },
    {
     "name": "stdout",
     "output_type": "stream",
     "text": [
      "-------Crawl page 1 successfully!!!--------\n"
     ]
    }
   ],
   "source": [
    "\n",
    "\n",
    "\n",
    "\n",
    "Get_List_productID()\n",
    "print(product_list)\n",
    "# Get_Product_Information()"
   ]
  }
 ],
 "metadata": {
  "kernelspec": {
   "display_name": "Python 3",
   "language": "python",
   "name": "python3"
  },
  "language_info": {
   "codemirror_mode": {
    "name": "ipython",
    "version": 3
   },
   "file_extension": ".py",
   "mimetype": "text/x-python",
   "name": "python",
   "nbconvert_exporter": "python",
   "pygments_lexer": "ipython3",
   "version": "3.8.10"
  },
  "orig_nbformat": 4,
  "vscode": {
   "interpreter": {
    "hash": "a4868653bb6f8972e87e4c446ab8a445a15b25dedb8594cc74c480f8152ea86a"
   }
  }
 },
 "nbformat": 4,
 "nbformat_minor": 2
}

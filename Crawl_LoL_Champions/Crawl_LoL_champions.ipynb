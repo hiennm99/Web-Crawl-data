{
 "cells": [
  {
   "cell_type": "code",
   "execution_count": 2,
   "metadata": {},
   "outputs": [],
   "source": [
    "import pandas as pd\n",
    "from time import sleep\n",
    "from selenium import webdriver\n",
    "import json\n",
    "import requests\n",
    "from selenium.common.exceptions import NoSuchElementException\n",
    "from selenium.webdriver.common.by import By"
   ]
  },
  {
   "cell_type": "code",
   "execution_count": 3,
   "metadata": {},
   "outputs": [],
   "source": [
    "url = \"https://op.gg/api/v1.0/internal/bypass/meta/champions?hl=en_US\"\n",
    "payload={ \n",
    "         \n",
    "}\n",
    "headers = {\n",
    "  'authority': 'op.gg',\n",
    "  'accept': 'application/json, text/plain, */*',\n",
    "  'accept-language': 'en-US,en;q=0.9,vi;q=0.8',\n",
    "  'if-none-match': 'W/\"1a7688-4EXDwhv77MGYD9umSmmUAy9rhgU\"',\n",
    "  'origin': 'https://www.op.gg',\n",
    "  'referer': 'https://www.op.gg/',\n",
    "  'sec-ch-ua': '\"Chromium\";v=\"110\", \"Not A(Brand\";v=\"24\", \"Google Chrome\";v=\"110\"',\n",
    "  'sec-ch-ua-mobile': '?0',\n",
    "  'sec-ch-ua-platform': '\"Windows\"',\n",
    "  'sec-fetch-dest': 'empty',\n",
    "  'sec-fetch-mode': 'cors',\n",
    "  'sec-fetch-site': 'same-site',\n",
    "  'user-agent': 'Mozilla/5.0 (Windows NT 10.0; Win64; x64) AppleWebKit/537.36 (KHTML, like Gecko) Chrome/110.0.0.0 Safari/537.36'\n",
    "}\n",
    "\n",
    "response = requests.request(\"GET\", url, headers=headers, data=payload)"
   ]
  },
  {
   "cell_type": "code",
   "execution_count": 4,
   "metadata": {},
   "outputs": [
    {
     "name": "stderr",
     "output_type": "stream",
     "text": [
      "C:\\Users\\Admin\\AppData\\Local\\Temp\\ipykernel_38780\\101893016.py:1: DeprecationWarning: executable_path has been deprecated, please pass in a Service object\n",
      "  driver=webdriver.Chrome('chromedriver.exe')\n"
     ]
    }
   ],
   "source": [
    "driver=webdriver.Chrome('chromedriver.exe')"
   ]
  },
  {
   "cell_type": "code",
   "execution_count": 185,
   "metadata": {},
   "outputs": [],
   "source": [
    "driver.get(f'https://leagueoflegends.fandom.com/wiki/Vladimir/LoL')"
   ]
  },
  {
   "cell_type": "code",
   "execution_count": 189,
   "metadata": {},
   "outputs": [
    {
     "data": {
      "text/plain": [
       "'THE CRIMSON REAPER'"
      ]
     },
     "execution_count": 189,
     "metadata": {},
     "output_type": "execute_result"
    }
   ],
   "source": [
    "nickname_elem=driver.find_element(By.CSS_SELECTOR,'.pi-data-value.pi-font')\n",
    "nickname_elem.text"
   ]
  },
  {
   "cell_type": "code",
   "execution_count": 91,
   "metadata": {},
   "outputs": [
    {
     "data": {
      "text/plain": [
       "'652 – 2590'"
      ]
     },
     "execution_count": 91,
     "metadata": {},
     "output_type": "execute_result"
    }
   ],
   "source": [
    "health_elem=driver.find_element(By.CSS_SELECTOR,'div[data-source=\"health\"]')\n",
    "health=health_elem.find_elements(By.TAG_NAME,'span')[1].text\n",
    "health"
   ]
  },
  {
   "cell_type": "code",
   "execution_count": 85,
   "metadata": {},
   "outputs": [
    {
     "data": {
      "text/plain": [
       "'10 – 26.15'"
      ]
     },
     "execution_count": 85,
     "metadata": {},
     "output_type": "execute_result"
    }
   ],
   "source": [
    "healthRegen_elem=driver.find_element(By.CSS_SELECTOR,'div[data-source=\"health regen\"]')\n",
    "healthRegen=healthRegen_elem.find_elements(By.TAG_NAME,'span')[1].text\n",
    "healthRegen"
   ]
  },
  {
   "cell_type": "code",
   "execution_count": 118,
   "metadata": {},
   "outputs": [
    {
     "data": {
      "text/plain": [
       "'39 – 127.4'"
      ]
     },
     "execution_count": 118,
     "metadata": {},
     "output_type": "execute_result"
    }
   ],
   "source": [
    "armor_elem=driver.find_element(By.CSS_SELECTOR,'div[data-source=\"armor\"]')\n",
    "armor=armor_elem.find_elements(By.TAG_NAME,'span')[1].text\n",
    "armor"
   ]
  },
  {
   "cell_type": "code",
   "execution_count": 86,
   "metadata": {},
   "outputs": [
    {
     "data": {
      "text/plain": [
       "'32 – 66.85'"
      ]
     },
     "execution_count": 86,
     "metadata": {},
     "output_type": "execute_result"
    }
   ],
   "source": [
    "magicResist_elem=driver.find_element(By.CSS_SELECTOR,'div[data-source=\"mr\"]')\n",
    "magicResist=magicResist_elem.find_elements(By.TAG_NAME,'span')[1].text\n",
    "magicResist"
   ]
  },
  {
   "cell_type": "code",
   "execution_count": 87,
   "metadata": {},
   "outputs": [
    {
     "data": {
      "text/plain": [
       "'340'"
      ]
     },
     "execution_count": 87,
     "metadata": {},
     "output_type": "execute_result"
    }
   ],
   "source": [
    "moveSpeed_elem=driver.find_element(By.CSS_SELECTOR,'div[data-source=\"ms\"]')\n",
    "moveSpeed=moveSpeed_elem.find_elements(By.TAG_NAME,'span')[0].text\n",
    "moveSpeed"
   ]
  },
  {
   "cell_type": "code",
   "execution_count": 120,
   "metadata": {},
   "outputs": [
    {
     "data": {
      "text/plain": [
       "'64 – 149'"
      ]
     },
     "execution_count": 120,
     "metadata": {},
     "output_type": "execute_result"
    }
   ],
   "source": [
    "atkDamage_elem=driver.find_element(By.CSS_SELECTOR,'div[data-source=\"attack damage\"]')\n",
    "atkDamage=atkDamage_elem.find_elements(By.TAG_NAME,\"span\")[1].text\n",
    "atkDamage"
   ]
  },
  {
   "cell_type": "code",
   "execution_count": 88,
   "metadata": {},
   "outputs": [
    {
     "data": {
      "text/plain": [
       "'175'"
      ]
     },
     "execution_count": 88,
     "metadata": {},
     "output_type": "execute_result"
    }
   ],
   "source": [
    "atkRange_elem=driver.find_element(By.CSS_SELECTOR,'div[data-source=\"range\"]')\n",
    "atkRange=atkRange_elem.find_element(By.TAG_NAME,\"span\").text\n",
    "atkRange"
   ]
  },
  {
   "cell_type": "code",
   "execution_count": 178,
   "metadata": {},
   "outputs": [
    {
     "data": {
      "text/plain": [
       "'263 – 1249'"
      ]
     },
     "execution_count": 178,
     "metadata": {},
     "output_type": "execute_result"
    }
   ],
   "source": [
    "try:\n",
    "    mana_elems=driver.find_elements(By.CSS_SELECTOR,'div[data-source=\"resource\"]')\n",
    "except NoSuchElementException as e:\n",
    "    e\n",
    "if mana_elems[1].find_elements(By.TAG_NAME,'span')==[]:\n",
    "    mana='N/A'\n",
    "else:\n",
    "    mana=mana_elems[1].find_elements(By.TAG_NAME,'span')[1].text   \n",
    "mana"
   ]
  },
  {
   "cell_type": "code",
   "execution_count": 187,
   "metadata": {},
   "outputs": [
    {
     "data": {
      "text/plain": [
       "' Bloodthirst'"
      ]
     },
     "execution_count": 187,
     "metadata": {},
     "output_type": "execute_result"
    }
   ],
   "source": [
    "manaRegen_elem=driver.find_element(By.CSS_SELECTOR,'div[data-source=\"resource regen\"]')\n",
    "manaRegen=manaRegen_elem.find_elements(By.TAG_NAME,'span')[0].text\n",
    "manaRegen"
   ]
  },
  {
   "cell_type": "code",
   "execution_count": 287,
   "metadata": {},
   "outputs": [],
   "source": [
    "def convert_to_str(lst=[]):\n",
    "    res=''\n",
    "    for val in lst:\n",
    "        res=res+str(val)+'/'\n",
    "    res=res[0:-1]\n",
    "    return res"
   ]
  },
  {
   "cell_type": "code",
   "execution_count": 288,
   "metadata": {},
   "outputs": [],
   "source": [
    "data=response.json().get('data')"
   ]
  },
  {
   "cell_type": "code",
   "execution_count": 289,
   "metadata": {},
   "outputs": [],
   "source": [
    "champs=[]\n",
    "for i in range(2):\n",
    "    champ_information=[]\n",
    "    champ_name=data[i]['name']\n",
    "    champ_image=data[i]['image_url']\n",
    "    \n",
    "    passive=data[i]['passive']['name']\n",
    "    passive_des=data[i]['passive']['description']\n",
    "    \n",
    "    skill_1=data[i]['spells'][0]['name']\n",
    "    skill_1_des=data[i]['spells'][0]['description']\n",
    "    cooldown_1=convert_to_str(data[i]['spells'][0]['cooldown_burn'])\n",
    "    cost_1=convert_to_str(data[i]['spells'][0]['cost_burn'])\n",
    "    range_1=convert_to_str(data[i]['spells'][0]['range_burn'])\n",
    "    skill_1_image=data[i]['spells'][0]['image_url']\n",
    "    \n",
    "    skill_2=data[i]['spells'][1]['name']\n",
    "    skill_2_des=data[i]['spells'][1]['description']\n",
    "    cooldown_2=convert_to_str(data[i]['spells'][1]['cooldown_burn'])\n",
    "    cost_2=convert_to_str(data[i]['spells'][1]['cost_burn'])\n",
    "    range_2=convert_to_str(data[i]['spells'][1]['range_burn'])\n",
    "    skill_2_image=data[i]['spells'][1]['image_url']\n",
    "    \n",
    "    skill_3=data[i]['spells'][2]['name']\n",
    "    skill_3_des=data[i]['spells'][2]['description']\n",
    "    cooldown_3=convert_to_str(data[i]['spells'][2]['cooldown_burn'])\n",
    "    cost_3=convert_to_str(data[i]['spells'][2]['cost_burn'])\n",
    "    range_3=convert_to_str(data[i]['spells'][2]['range_burn'])\n",
    "    skill_3_image=data[i]['spells'][2]['image_url']\n",
    "    \n",
    "    skill_4=data[i]['spells'][3]['name']\n",
    "    skill_4_des=data[i]['spells'][3]['description']\n",
    "    cooldown_4=convert_to_str(data[i]['spells'][3]['cooldown_burn'])\n",
    "    cost_4=convert_to_str(data[i]['spells'][3]['cost_burn'])\n",
    "    range_4=convert_to_str(data[i]['spells'][3]['range_burn'])\n",
    "    skill_4_image=data[i]['spells'][3]['image_url']\n",
    "    \n",
    "    name_temp=champ_name.replace(\" \",\"_\").replace(\"'\",\"%27\")\n",
    "    url=f'https://leagueoflegends.fandom.com/wiki/{name_temp}/LoL'\n",
    "    driver.get(url)\n",
    "    sleep(2)\n",
    "    try:  \n",
    "        nickname_elem=driver.find_element(By.XPATH,'/html/body/div[4]/div[3]/div[2]/main/div[3]/div[2]/div[1]/div[6]/aside/div[1]/div/span')\n",
    "        nickname=nickname_elem.text\n",
    "    except NoSuchElementException as e:\n",
    "        nickname='N/A'\n",
    "    try:\n",
    "        health_elem      =driver.find_element(By.XPATH,'/html/body/div[4]/div[3]/div[2]/main/div[3]/div[2]/div[1]/div[8]/aside/section[1]/section[1]/section/div[1]/span[2]')\n",
    "        health=health_elem.text\n",
    "    except NoSuchElementException as e:\n",
    "        health='N/A'\n",
    "    try:\n",
    "        healthRegen_elem =driver.find_element(By.XPATH,'/html/body/div[4]/div[3]/div[2]/main/div[3]/div[2]/div[1]/div[8]/aside/section[1]/section[2]/section/div[1]/span[2]')\n",
    "        healthRegen=healthRegen_elem.text\n",
    "    except NoSuchElementException as e:\n",
    "        healthRegen='N/A'\n",
    "    try:\n",
    "        armor_elem       =driver.find_element(By.XPATH,'/html/body/div[4]/div[3]/div[2]/main/div[3]/div[2]/div[1]/div[8]/aside/section[1]/section[3]/section/div[1]/span[2]')\n",
    "        armor=armor_elem.text\n",
    "    except NoSuchElementException as e:\n",
    "        armor='N/A'\n",
    "    try:\n",
    "        magicResist_elem =driver.find_element(By.XPATH,'/html/body/div[4]/div[3]/div[2]/main/div[3]/div[2]/div[1]/div[8]/aside/section[1]/section[4]/section/div[1]/span[2]')\n",
    "        magicResist=magicResist_elem.text\n",
    "    except NoSuchElementException as e:\n",
    "        magicResist='N/A'\n",
    "    try:\n",
    "        moveSpeed_elem   =driver.find_element(By.XPATH,'/html/body/div[4]/div[3]/div[2]/main/div[3]/div[2]/div[1]/div[8]/aside/section[1]/section[5]/section/div[1]/span')\n",
    "        moveSpeed=moveSpeed_elem.text\n",
    "    except NoSuchElementException as e:\n",
    "        moveSpeed='N/A'\n",
    "    try:\n",
    "        mana_elem        =driver.find_element(By.XPATH,'/html/body/div[4]/div[3]/div[2]/main/div[3]/div[2]/div[1]/div[8]/aside/section[1]/section[1]/section/div[2]/span[2]')\n",
    "        mana=mana_elem.text\n",
    "    except NoSuchElementException as e:\n",
    "        mana='N/A'\n",
    "    try:\n",
    "        manaRegen_elem   =driver.find_element(By.XPATH,'/html/body/div[4]/div[3]/div[2]/main/div[3]/div[2]/div[1]/div[8]/aside/section[1]/section[2]/section/div[2]/span[2]')\n",
    "        manaRegen=manaRegen_elem.text\n",
    "    except NoSuchElementException as e:\n",
    "        manaRegen='N/A'\n",
    "    try:\n",
    "        atkDamage_elem   =driver.find_element(By.XPATH,'/html/body/div[4]/div[3]/div[2]/main/div[3]/div[2]/div[1]/div[8]/aside/section[1]/section[3]/section/div[2]/span[2]')\n",
    "        atkDamage=atkDamage_elem.text\n",
    "    except NoSuchElementException as e:\n",
    "        atkDamage='N/A'\n",
    "    try:    \n",
    "        atkRange_elem    =driver.find_element(By.XPATH,'/html/body/div[4]/div[3]/div[2]/main/div[3]/div[2]/div[1]/div[8]/aside/section[1]/section[5]/section/div[2]/span')\n",
    "        atkRange=atkRange_elem.text\n",
    "    except NoSuchElementException as e:\n",
    "        atkRange='N/A'\n",
    "    \n",
    "    champ_information.append(champ_name)\n",
    "    champ_information.append(nickname)\n",
    "    champ_information.append(champ_image)\n",
    "    champ_information.append(health)\n",
    "    champ_information.append(healthRegen)\n",
    "    champ_information.append(mana)\n",
    "    champ_information.append(manaRegen)\n",
    "    champ_information.append(atkDamage)\n",
    "    champ_information.append(atkRange)\n",
    "    champ_information.append(armor)\n",
    "    champ_information.append(magicResist)\n",
    "    champ_information.append(moveSpeed)\n",
    "    \n",
    "    champ_information.append(passive)\n",
    "    \n",
    "    champ_information.append(skill_1)\n",
    "    champ_information.append(skill_1_des)\n",
    "    champ_information.append(cooldown_1)\n",
    "    champ_information.append(cost_1)\n",
    "    champ_information.append(range_1)\n",
    "    champ_information.append(skill_1_image)\n",
    "    \n",
    "    champ_information.append(skill_2)\n",
    "    champ_information.append(skill_2_des)\n",
    "    champ_information.append(cooldown_2)\n",
    "    champ_information.append(cost_2)\n",
    "    champ_information.append(range_2)\n",
    "    champ_information.append(skill_2_image)\n",
    "    \n",
    "    champ_information.append(skill_3)\n",
    "    champ_information.append(skill_3_des)\n",
    "    champ_information.append(cooldown_3)\n",
    "    champ_information.append(cost_3)\n",
    "    champ_information.append(range_3)\n",
    "    champ_information.append(skill_3_image)\n",
    "    \n",
    "    champ_information.append(skill_4)\n",
    "    champ_information.append(skill_4_des)\n",
    "    champ_information.append(cooldown_4)\n",
    "    champ_information.append(cost_4)\n",
    "    champ_information.append(range_4)\n",
    "    champ_information.append(skill_4_image)\n",
    "    champs.append(champ_information)"
   ]
  },
  {
   "cell_type": "code",
   "execution_count": 290,
   "metadata": {},
   "outputs": [],
   "source": [
    "df=pd.DataFrame(data=champs,columns=['Champion name','Champion nickname','Champion image',\n",
    "                                     'Health','Health regen (per 5s)','Mana','Mana regen (per 5s)','Attack damage','Attack range','Armor','Magic resist','Move speed',\n",
    "                                     'Passive skill',\n",
    "                                     'Skill 1','Description','Cooldown','Cost','Range','Skill 1 image',\n",
    "                                     'Skill 2','Description','Cooldown','Cost','Range','Skill 2 image',\n",
    "                                     'Skill 3','Description','Cooldown','Cost','Range','Skill 3 image',\n",
    "                                     'Skill 4','Description','Cooldown','Cost','Range','Skill 4 image'])"
   ]
  },
  {
   "cell_type": "code",
   "execution_count": 277,
   "metadata": {},
   "outputs": [],
   "source": [
    "df.to_excel('LOL champions.xlsx')"
   ]
  },
  {
   "cell_type": "code",
   "execution_count": 138,
   "metadata": {},
   "outputs": [],
   "source": [
    "import threading\n",
    "nickname=[]\n",
    "def get_multi_driver():\n",
    "    drivers=[]\n",
    "    for i in range(10):\n",
    "        driver=webdriver.Chrome('chromedriver.exe')\n",
    "        drivers.append(driver)\n",
    "    return drivers"
   ]
  },
  {
   "cell_type": "code",
   "execution_count": 139,
   "metadata": {},
   "outputs": [],
   "source": [
    "champ_list=['Annie',f'Cho%27Gath','Olaf','Darius','Ezreal','Malphite','Yone','Miss_Fortune','Rengar','Wukong']"
   ]
  },
  {
   "cell_type": "code",
   "execution_count": 140,
   "metadata": {},
   "outputs": [],
   "source": [
    "\n",
    "def open_brower(driver,n):\n",
    "    champ=champ_list[n]\n",
    "    url=f'https://leagueoflegends.fandom.com/wiki/{champ}/LoL'\n",
    "    driver.get(url)\n",
    "    print(f'---Start crawl champ:{champ}---')\n",
    "    try:  \n",
    "        nickname_elem=driver.find_element(By.XPATH,'/html/body/div[4]/div[3]/div[2]/main/div[3]/div[2]/div[1]/div[6]/aside/div[1]/div/span')\n",
    "        nn=nickname_elem.text\n",
    "    except NoSuchElementException as e:\n",
    "        nn='N/A'\n",
    "    nickname.append(nn)\n",
    "    sleep(5)\n",
    "    "
   ]
  },
  {
   "cell_type": "code",
   "execution_count": 141,
   "metadata": {},
   "outputs": [],
   "source": [
    "def load_multi_Browser():\n",
    "    drivers=get_multi_driver()\n",
    "    index=0\n",
    "    for driver in drivers:\n",
    "        t=threading.Thread(target=open_brower,args=(driver,index,))\n",
    "        t.start()\n",
    "        index+=1"
   ]
  },
  {
   "cell_type": "code",
   "execution_count": 142,
   "metadata": {},
   "outputs": [
    {
     "name": "stderr",
     "output_type": "stream",
     "text": [
      "C:\\Users\\Admin\\AppData\\Local\\Temp\\ipykernel_14152\\1011524234.py:6: DeprecationWarning: executable_path has been deprecated, please pass in a Service object\n",
      "  driver=webdriver.Chrome('chromedriver.exe')\n"
     ]
    },
    {
     "name": "stdout",
     "output_type": "stream",
     "text": [
      "---Start crawl champ:Wulong---\n",
      "---Start crawl champ:Yone---\n",
      "---Start crawl champ:Olaf---\n",
      "---Start crawl champ:Miss_Fortune---\n",
      "---Start crawl champ:Malphite---\n",
      "---Start crawl champ:Cho%27Gath---\n",
      "---Start crawl champ:Ezreal---\n",
      "---Start crawl champ:Rengar---\n",
      "---Start crawl champ:Annie---\n",
      "---Start crawl champ:Darius---\n"
     ]
    }
   ],
   "source": [
    "load_multi_Browser()"
   ]
  },
  {
   "cell_type": "code",
   "execution_count": 191,
   "metadata": {},
   "outputs": [],
   "source": [
    "df=pd.read_excel('Champions information.xlsx')"
   ]
  },
  {
   "cell_type": "code",
   "execution_count": 193,
   "metadata": {},
   "outputs": [
    {
     "data": {
      "text/plain": [
       "162"
      ]
     },
     "execution_count": 193,
     "metadata": {},
     "output_type": "execute_result"
    }
   ],
   "source": [
    "from sqlalchemy import create_engine\n",
    "def connect_MySQL():\n",
    "    #MySQL connection information\n",
    "    mysql_redshift={\n",
    "        'driver':'mysql+pymysql',\n",
    "        'username':'root',\n",
    "        'password':'',\n",
    "        'host':'localhost',\n",
    "        'database':'lol_champions'\n",
    "    }\n",
    "    mysql_engine=create_engine(f\"{mysql_redshift['driver']}://{mysql_redshift['username']}:{mysql_redshift['password']}@{mysql_redshift['host']}/{mysql_redshift['database']}\")\n",
    "    return mysql_engine\n",
    "mysql_engine= connect_MySQL()\n",
    "df.to_sql('lol_champions',con=mysql_engine,if_exists='append',index=False)"
   ]
  },
  {
   "cell_type": "code",
   "execution_count": 199,
   "metadata": {},
   "outputs": [
    {
     "ename": "ImportError",
     "evalue": "attempted relative import with no known parent package",
     "output_type": "error",
     "traceback": [
      "\u001b[1;31m---------------------------------------------------------------------------\u001b[0m",
      "\u001b[1;31mImportError\u001b[0m                               Traceback (most recent call last)",
      "Cell \u001b[1;32mIn[199], line 1\u001b[0m\n\u001b[1;32m----> 1\u001b[0m \u001b[39mfrom\u001b[39;00m \u001b[39m.\u001b[39;00m\u001b[39msecrets\u001b[39;00m \u001b[39mimport\u001b[39;00m connect_MySQL\n\u001b[0;32m      2\u001b[0m con\u001b[39m=\u001b[39mconnect_MySQL()\n",
      "\u001b[1;31mImportError\u001b[0m: attempted relative import with no known parent package"
     ]
    }
   ],
   "source": [
    "from .secrets import connect_MySQL\n",
    "con=connect_MySQL()"
   ]
  }
 ],
 "metadata": {
  "kernelspec": {
   "display_name": "Python 3",
   "language": "python",
   "name": "python3"
  },
  "language_info": {
   "codemirror_mode": {
    "name": "ipython",
    "version": 3
   },
   "file_extension": ".py",
   "mimetype": "text/x-python",
   "name": "python",
   "nbconvert_exporter": "python",
   "pygments_lexer": "ipython3",
   "version": "3.8.10"
  },
  "orig_nbformat": 4
 },
 "nbformat": 4,
 "nbformat_minor": 2
}
